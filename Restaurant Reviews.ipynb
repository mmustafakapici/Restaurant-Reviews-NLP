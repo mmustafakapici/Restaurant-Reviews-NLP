{
 "cells": [
  {
   "cell_type": "markdown",
   "metadata": {},
   "source": [
    "dataset link : https://www.kaggle.com/datasets/d4rklucif3r/restaurant-reviews"
   ]
  },
  {
   "cell_type": "code",
   "metadata": {
    "ExecuteTime": {
     "end_time": "2024-06-06T01:13:07.506446Z",
     "start_time": "2024-06-06T01:13:07.490020Z"
    }
   },
   "source": [
    "import numpy as np\n",
    "import pandas as pd\n",
    "import matplotlib.pyplot as plt\n",
    "%matplotlib inline\n",
    "import seaborn as sns\n",
    "sns.set_style('whitegrid')"
   ],
   "outputs": [],
   "execution_count": 1
  },
  {
   "metadata": {
    "ExecuteTime": {
     "end_time": "2024-06-06T01:13:08.167359Z",
     "start_time": "2024-06-06T01:13:07.508239Z"
    }
   },
   "cell_type": "code",
   "source": [
    "import re\n",
    "import nltk\n",
    "from nltk.stem.porter import PorterStemmer\n",
    "from nltk.corpus import stopwords"
   ],
   "outputs": [],
   "execution_count": 2
  },
  {
   "metadata": {
    "ExecuteTime": {
     "end_time": "2024-06-06T01:13:08.184912Z",
     "start_time": "2024-06-06T01:13:08.170680Z"
    }
   },
   "cell_type": "code",
   "source": [
    "df = pd.read_csv('Restaurant_Reviews.tsv',delimiter='\\t',quoting=3)\n",
    "df.head()"
   ],
   "outputs": [
    {
     "data": {
      "text/plain": [
       "                                              Review  Liked\n",
       "0                           Wow... Loved this place.      1\n",
       "1                                 Crust is not good.      0\n",
       "2          Not tasty and the texture was just nasty.      0\n",
       "3  Stopped by during the late May bank holiday of...      1\n",
       "4  The selection on the menu was great and so wer...      1"
      ],
      "text/html": [
       "<div>\n",
       "<style scoped>\n",
       "    .dataframe tbody tr th:only-of-type {\n",
       "        vertical-align: middle;\n",
       "    }\n",
       "\n",
       "    .dataframe tbody tr th {\n",
       "        vertical-align: top;\n",
       "    }\n",
       "\n",
       "    .dataframe thead th {\n",
       "        text-align: right;\n",
       "    }\n",
       "</style>\n",
       "<table border=\"1\" class=\"dataframe\">\n",
       "  <thead>\n",
       "    <tr style=\"text-align: right;\">\n",
       "      <th></th>\n",
       "      <th>Review</th>\n",
       "      <th>Liked</th>\n",
       "    </tr>\n",
       "  </thead>\n",
       "  <tbody>\n",
       "    <tr>\n",
       "      <th>0</th>\n",
       "      <td>Wow... Loved this place.</td>\n",
       "      <td>1</td>\n",
       "    </tr>\n",
       "    <tr>\n",
       "      <th>1</th>\n",
       "      <td>Crust is not good.</td>\n",
       "      <td>0</td>\n",
       "    </tr>\n",
       "    <tr>\n",
       "      <th>2</th>\n",
       "      <td>Not tasty and the texture was just nasty.</td>\n",
       "      <td>0</td>\n",
       "    </tr>\n",
       "    <tr>\n",
       "      <th>3</th>\n",
       "      <td>Stopped by during the late May bank holiday of...</td>\n",
       "      <td>1</td>\n",
       "    </tr>\n",
       "    <tr>\n",
       "      <th>4</th>\n",
       "      <td>The selection on the menu was great and so wer...</td>\n",
       "      <td>1</td>\n",
       "    </tr>\n",
       "  </tbody>\n",
       "</table>\n",
       "</div>"
      ]
     },
     "execution_count": 3,
     "metadata": {},
     "output_type": "execute_result"
    }
   ],
   "execution_count": 3
  },
  {
   "metadata": {
    "ExecuteTime": {
     "end_time": "2024-06-06T01:13:08.195705Z",
     "start_time": "2024-06-06T01:13:08.186352Z"
    }
   },
   "cell_type": "code",
   "source": "df.info()",
   "outputs": [
    {
     "name": "stdout",
     "output_type": "stream",
     "text": [
      "<class 'pandas.core.frame.DataFrame'>\n",
      "RangeIndex: 1000 entries, 0 to 999\n",
      "Data columns (total 2 columns):\n",
      " #   Column  Non-Null Count  Dtype \n",
      "---  ------  --------------  ----- \n",
      " 0   Review  1000 non-null   object\n",
      " 1   Liked   1000 non-null   int64 \n",
      "dtypes: int64(1), object(1)\n",
      "memory usage: 15.8+ KB\n"
     ]
    }
   ],
   "execution_count": 4
  },
  {
   "metadata": {
    "ExecuteTime": {
     "end_time": "2024-06-06T01:13:08.211214Z",
     "start_time": "2024-06-06T01:13:08.197500Z"
    }
   },
   "cell_type": "code",
   "source": "df.describe().T",
   "outputs": [
    {
     "data": {
      "text/plain": [
       "        count  mean      std  min  25%  50%  75%  max\n",
       "Liked  1000.0   0.5  0.50025  0.0  0.0  0.5  1.0  1.0"
      ],
      "text/html": [
       "<div>\n",
       "<style scoped>\n",
       "    .dataframe tbody tr th:only-of-type {\n",
       "        vertical-align: middle;\n",
       "    }\n",
       "\n",
       "    .dataframe tbody tr th {\n",
       "        vertical-align: top;\n",
       "    }\n",
       "\n",
       "    .dataframe thead th {\n",
       "        text-align: right;\n",
       "    }\n",
       "</style>\n",
       "<table border=\"1\" class=\"dataframe\">\n",
       "  <thead>\n",
       "    <tr style=\"text-align: right;\">\n",
       "      <th></th>\n",
       "      <th>count</th>\n",
       "      <th>mean</th>\n",
       "      <th>std</th>\n",
       "      <th>min</th>\n",
       "      <th>25%</th>\n",
       "      <th>50%</th>\n",
       "      <th>75%</th>\n",
       "      <th>max</th>\n",
       "    </tr>\n",
       "  </thead>\n",
       "  <tbody>\n",
       "    <tr>\n",
       "      <th>Liked</th>\n",
       "      <td>1000.0</td>\n",
       "      <td>0.5</td>\n",
       "      <td>0.50025</td>\n",
       "      <td>0.0</td>\n",
       "      <td>0.0</td>\n",
       "      <td>0.5</td>\n",
       "      <td>1.0</td>\n",
       "      <td>1.0</td>\n",
       "    </tr>\n",
       "  </tbody>\n",
       "</table>\n",
       "</div>"
      ]
     },
     "execution_count": 5,
     "metadata": {},
     "output_type": "execute_result"
    }
   ],
   "execution_count": 5
  },
  {
   "metadata": {},
   "cell_type": "markdown",
   "source": "### Pie Chart"
  },
  {
   "metadata": {
    "ExecuteTime": {
     "end_time": "2024-06-06T01:13:08.330467Z",
     "start_time": "2024-06-06T01:13:08.213152Z"
    }
   },
   "cell_type": "code",
   "source": [
    "#pie chart\n",
    "\n",
    "plt.figure(figsize=(10,5))\n",
    "\n",
    "df['Liked'].value_counts().plot.pie(autopct='%1.1f%%', colors = ['lightcoral', 'skyblue'], )\n",
    "plt.title('Liked Pie Chart')\n",
    "\n",
    "plt.show()\n"
   ],
   "outputs": [
    {
     "data": {
      "text/plain": [
       "<Figure size 1000x500 with 1 Axes>"
      ],
      "image/png": "[encoded data removed]"
     },
     "metadata": {},
     "output_type": "display_data"
    }
   ],
   "execution_count": 6
  },
  {
   "metadata": {},
   "cell_type": "markdown",
   "source": "### plotting the length of reviews"
  },
  {
   "metadata": {
    "ExecuteTime": {
     "end_time": "2024-06-06T01:13:08.655156Z",
     "start_time": "2024-06-06T01:13:08.332217Z"
    }
   },
   "cell_type": "code",
   "source": [
    "df['Len'] = df['Review'].apply(len) # Adding 'Len' column to show the length of reviews\n",
    "\n",
    "plt.figure(figsize = (8,4))\n",
    "sns.histplot(x = 'Len',data = df,hue = 'Liked')\n",
    "plt.xlabel('Lenght of Reviews',size = 14)\n",
    "plt.ylabel('Count',size = 14)\n",
    "plt.xticks(size = 12)\n",
    "plt.yticks(size = 12)\n",
    "plt.show()\n",
    "\n",
    "df.drop('Len',axis = 1,inplace = True) # Removing the 'Len' column"
   ],
   "outputs": [
    {
     "data": {
      "text/plain": [
       "<Figure size 800x400 with 1 Axes>"
      ],
      "image/png": "[encoded data removed]"
     },
     "metadata": {},
     "output_type": "display_data"
    }
   ],
   "execution_count": 7
  },
  {
   "metadata": {},
   "cell_type": "markdown",
   "source": ""
  },
  {
   "metadata": {
    "ExecuteTime": {
     "end_time": "2024-06-06T01:13:08.944144Z",
     "start_time": "2024-06-06T01:13:08.656748Z"
    }
   },
   "cell_type": "code",
   "source": "nltk.download('stopwords')",
   "outputs": [
    {
     "name": "stderr",
     "output_type": "stream",
     "text": [
      "[nltk_data] Downloading package stopwords to\n",
      "[nltk_data]     /Users/mustafakapici/nltk_data...\n",
      "[nltk_data]   Package stopwords is already up-to-date!\n"
     ]
    },
    {
     "data": {
      "text/plain": [
       "True"
      ]
     },
     "execution_count": 8,
     "metadata": {},
     "output_type": "execute_result"
    }
   ],
   "execution_count": 8
  },
  {
   "metadata": {},
   "cell_type": "markdown",
   "source": "### Cleaning the text"
  },
  {
   "metadata": {
    "ExecuteTime": {
     "end_time": "2024-06-06T01:13:08.951431Z",
     "start_time": "2024-06-06T01:13:08.946055Z"
    }
   },
   "cell_type": "code",
   "source": [
    "all_stopwords = stopwords.words('english')\n",
    "all_stopwords.remove('not')\n",
    "ps = PorterStemmer()"
   ],
   "outputs": [],
   "execution_count": 9
  },
  {
   "metadata": {
    "ExecuteTime": {
     "end_time": "2024-06-06T01:13:09.146301Z",
     "start_time": "2024-06-06T01:13:08.952847Z"
    }
   },
   "cell_type": "code",
   "source": [
    "corpus = []\n",
    "for i in range(0,len(df)):\n",
    "    # values that are not letters have been removed from review of i\n",
    "    review = re.sub('[^a-zA-Z]',' ',df['Review'][i])\n",
    "\n",
    "    review = review.lower()\n",
    "\n",
    "    # converting to list\n",
    "    review = review.split()\n",
    "\n",
    "    # check each word in review of i, subtract the stopwords and get the root of the rest of the words\n",
    "    review = [ps.stem(word) for word in review if not word in set(all_stopwords)]\n",
    "\n",
    "    # converting to string and append the corpus list\n",
    "    review = ' '.join(review)\n",
    "    corpus.append(review)"
   ],
   "outputs": [],
   "execution_count": 10
  },
  {
   "metadata": {},
   "cell_type": "markdown",
   "source": "### Creating the Bag of Words model"
  },
  {
   "metadata": {
    "ExecuteTime": {
     "end_time": "2024-06-06T01:13:09.171898Z",
     "start_time": "2024-06-06T01:13:09.148045Z"
    }
   },
   "cell_type": "code",
   "source": [
    "from sklearn.feature_extraction.text import CountVectorizer\n",
    "cv = CountVectorizer(max_features=1500)\n",
    "x = cv.fit_transform(corpus).toarray()\n",
    "y = df.iloc[:,-1].values"
   ],
   "outputs": [],
   "execution_count": 11
  },
  {
   "metadata": {},
   "cell_type": "markdown",
   "source": "### Splitting the dataset into the Training set and Test set"
  },
  {
   "metadata": {
    "ExecuteTime": {
     "end_time": "2024-06-06T01:13:09.191656Z",
     "start_time": "2024-06-06T01:13:09.177884Z"
    }
   },
   "cell_type": "code",
   "source": [
    "from sklearn.model_selection import train_test_split\n",
    "x_train,x_test,y_train,y_test = train_test_split(x,y,test_size=0.2,random_state=0)"
   ],
   "outputs": [],
   "execution_count": 12
  },
  {
   "metadata": {
    "ExecuteTime": {
     "end_time": "2024-06-06T01:13:09.199321Z",
     "start_time": "2024-06-06T01:13:09.193237Z"
    }
   },
   "cell_type": "code",
   "source": [
    "def calculate_scores(y_pred,algorithmName):\n",
    "    global df_result,index\n",
    "\n",
    "    from sklearn.metrics import confusion_matrix,accuracy_score,precision_score,recall_score\n",
    "\n",
    "    tn, fp, fn, tp = confusion_matrix(y_test,y_pred).ravel()\n",
    "    acc = accuracy_score(y_test,y_pred).round(3)\n",
    "    precision = precision_score(y_test,y_pred).round(3)\n",
    "    recall = recall_score(y_test,y_pred).round(3)\n",
    "\n",
    "    d = {'classifier':[algorithmName],'accuracy':[acc],'precision':[precision],'recall':[recall],'true positive':[tp],\n",
    "         'true negative':[tn],'false positive':[fp],'false negative':[fn]}\n",
    "    new_df = pd.DataFrame(data = d,index = [index])\n",
    "    df_result = pd.concat([df_result,new_df])\n",
    "    index += 1"
   ],
   "outputs": [],
   "execution_count": 13
  },
  {
   "metadata": {
    "ExecuteTime": {
     "end_time": "2024-06-06T01:13:09.203055Z",
     "start_time": "2024-06-06T01:13:09.201045Z"
    }
   },
   "cell_type": "code",
   "source": "",
   "outputs": [],
   "execution_count": 13
  },
  {
   "metadata": {},
   "cell_type": "markdown",
   "source": "### Random Forest"
  },
  {
   "metadata": {
    "ExecuteTime": {
     "end_time": "2024-06-06T01:13:09.208210Z",
     "start_time": "2024-06-06T01:13:09.204598Z"
    }
   },
   "cell_type": "code",
   "source": [
    "def random_forest():\n",
    "    from sklearn.ensemble import RandomForestClassifier\n",
    "    rfc = RandomForestClassifier(criterion='entropy',n_estimators = 100).fit(x_train,y_train)\n",
    "    y_pred = rfc.predict(x_test)\n",
    "    calculate_scores(y_pred,'Random Forest')"
   ],
   "outputs": [],
   "execution_count": 14
  },
  {
   "metadata": {},
   "cell_type": "markdown",
   "source": "### Decision Tree"
  },
  {
   "metadata": {
    "ExecuteTime": {
     "end_time": "2024-06-06T01:13:09.213046Z",
     "start_time": "2024-06-06T01:13:09.209775Z"
    }
   },
   "cell_type": "code",
   "source": [
    "def decision_tree():\n",
    "    from sklearn.tree import DecisionTreeClassifier\n",
    "    dtc = DecisionTreeClassifier(criterion='entropy').fit(x_train,y_train)\n",
    "    y_pred = dtc.predict(x_test)\n",
    "    calculate_scores(y_pred,'Decision Tree')"
   ],
   "outputs": [],
   "execution_count": 15
  },
  {
   "metadata": {},
   "cell_type": "markdown",
   "source": "### KNN"
  },
  {
   "metadata": {
    "ExecuteTime": {
     "end_time": "2024-06-06T01:13:09.219176Z",
     "start_time": "2024-06-06T01:13:09.215366Z"
    }
   },
   "cell_type": "code",
   "source": [
    "def knn():\n",
    "    from sklearn.neighbors import KNeighborsClassifier\n",
    "    knn = KNeighborsClassifier(n_neighbors=23).fit(x_train,y_train)\n",
    "    y_pred = knn.predict(x_test)\n",
    "    calculate_scores(y_pred,'KNN')"
   ],
   "outputs": [],
   "execution_count": 16
  },
  {
   "metadata": {},
   "cell_type": "markdown",
   "source": "### Naive Bayes"
  },
  {
   "metadata": {
    "ExecuteTime": {
     "end_time": "2024-06-06T01:13:09.224857Z",
     "start_time": "2024-06-06T01:13:09.220753Z"
    }
   },
   "cell_type": "code",
   "source": [
    "def naive_bayes():\n",
    "    from sklearn.naive_bayes import GaussianNB\n",
    "    classifier = GaussianNB().fit(x_train,y_train)\n",
    "    y_pred = classifier.predict(x_test)\n",
    "    calculate_scores(y_pred,'Naive Bayes')"
   ],
   "outputs": [],
   "execution_count": 17
  },
  {
   "metadata": {},
   "cell_type": "markdown",
   "source": "### MLP"
  },
  {
   "metadata": {
    "ExecuteTime": {
     "end_time": "2024-06-06T01:13:09.230008Z",
     "start_time": "2024-06-06T01:13:09.226449Z"
    }
   },
   "cell_type": "code",
   "source": [
    "def mlp():\n",
    "    from sklearn.neural_network import MLPClassifier\n",
    "    mlp = MLPClassifier().fit(x_train,y_train)\n",
    "    y_pred = mlp.predict(x_test)\n",
    "    calculate_scores(y_pred,'MLP')"
   ],
   "outputs": [],
   "execution_count": 18
  },
  {
   "metadata": {},
   "cell_type": "markdown",
   "source": "### Logistic Regression"
  },
  {
   "metadata": {
    "ExecuteTime": {
     "end_time": "2024-06-06T01:13:09.235501Z",
     "start_time": "2024-06-06T01:13:09.231922Z"
    }
   },
   "cell_type": "code",
   "source": [
    "def logistic_reg():\n",
    "    from sklearn.linear_model import LogisticRegression\n",
    "    lr = LogisticRegression().fit(x_train,y_train)\n",
    "    y_pred = lr.predict(x_test)\n",
    "    calculate_scores(y_pred,'Logistic Regression')"
   ],
   "outputs": [],
   "execution_count": 19
  },
  {
   "metadata": {},
   "cell_type": "markdown",
   "source": "### Results"
  },
  {
   "metadata": {
    "ExecuteTime": {
     "end_time": "2024-06-06T01:13:13.395400Z",
     "start_time": "2024-06-06T01:13:09.236995Z"
    }
   },
   "cell_type": "code",
   "source": [
    "df_result = pd.DataFrame()\n",
    "index = 1\n",
    "functions = [random_forest,decision_tree,knn,naive_bayes,mlp,logistic_reg]\n",
    "for function in functions:\n",
    "    function()\n",
    "\n",
    "df_result.sort_values(by = 'accuracy',ascending=False)"
   ],
   "outputs": [
    {
     "data": {
      "text/plain": [
       "            classifier  accuracy  precision  recall  true positive  \\\n",
       "5                  MLP     0.800      0.812   0.796             82   \n",
       "1        Random Forest     0.775      0.882   0.650             67   \n",
       "6  Logistic Regression     0.775      0.815   0.728             75   \n",
       "2        Decision Tree     0.750      0.805   0.680             70   \n",
       "4          Naive Bayes     0.730      0.684   0.883             91   \n",
       "3                  KNN     0.645      0.695   0.553             57   \n",
       "\n",
       "   true negative  false positive  false negative  \n",
       "5             78              19              21  \n",
       "1             88               9              36  \n",
       "6             80              17              28  \n",
       "2             80              17              33  \n",
       "4             55              42              12  \n",
       "3             72              25              46  "
      ],
      "text/html": [
       "<div>\n",
       "<style scoped>\n",
       "    .dataframe tbody tr th:only-of-type {\n",
       "        vertical-align: middle;\n",
       "    }\n",
       "\n",
       "    .dataframe tbody tr th {\n",
       "        vertical-align: top;\n",
       "    }\n",
       "\n",
       "    .dataframe thead th {\n",
       "        text-align: right;\n",
       "    }\n",
       "</style>\n",
       "<table border=\"1\" class=\"dataframe\">\n",
       "  <thead>\n",
       "    <tr style=\"text-align: right;\">\n",
       "      <th></th>\n",
       "      <th>classifier</th>\n",
       "      <th>accuracy</th>\n",
       "      <th>precision</th>\n",
       "      <th>recall</th>\n",
       "      <th>true positive</th>\n",
       "      <th>true negative</th>\n",
       "      <th>false positive</th>\n",
       "      <th>false negative</th>\n",
       "    </tr>\n",
       "  </thead>\n",
       "  <tbody>\n",
       "    <tr>\n",
       "      <th>5</th>\n",
       "      <td>MLP</td>\n",
       "      <td>0.800</td>\n",
       "      <td>0.812</td>\n",
       "      <td>0.796</td>\n",
       "      <td>82</td>\n",
       "      <td>78</td>\n",
       "      <td>19</td>\n",
       "      <td>21</td>\n",
       "    </tr>\n",
       "    <tr>\n",
       "      <th>1</th>\n",
       "      <td>Random Forest</td>\n",
       "      <td>0.775</td>\n",
       "      <td>0.882</td>\n",
       "      <td>0.650</td>\n",
       "      <td>67</td>\n",
       "      <td>88</td>\n",
       "      <td>9</td>\n",
       "      <td>36</td>\n",
       "    </tr>\n",
       "    <tr>\n",
       "      <th>6</th>\n",
       "      <td>Logistic Regression</td>\n",
       "      <td>0.775</td>\n",
       "      <td>0.815</td>\n",
       "      <td>0.728</td>\n",
       "      <td>75</td>\n",
       "      <td>80</td>\n",
       "      <td>17</td>\n",
       "      <td>28</td>\n",
       "    </tr>\n",
       "    <tr>\n",
       "      <th>2</th>\n",
       "      <td>Decision Tree</td>\n",
       "      <td>0.750</td>\n",
       "      <td>0.805</td>\n",
       "      <td>0.680</td>\n",
       "      <td>70</td>\n",
       "      <td>80</td>\n",
       "      <td>17</td>\n",
       "      <td>33</td>\n",
       "    </tr>\n",
       "    <tr>\n",
       "      <th>4</th>\n",
       "      <td>Naive Bayes</td>\n",
       "      <td>0.730</td>\n",
       "      <td>0.684</td>\n",
       "      <td>0.883</td>\n",
       "      <td>91</td>\n",
       "      <td>55</td>\n",
       "      <td>42</td>\n",
       "      <td>12</td>\n",
       "    </tr>\n",
       "    <tr>\n",
       "      <th>3</th>\n",
       "      <td>KNN</td>\n",
       "      <td>0.645</td>\n",
       "      <td>0.695</td>\n",
       "      <td>0.553</td>\n",
       "      <td>57</td>\n",
       "      <td>72</td>\n",
       "      <td>25</td>\n",
       "      <td>46</td>\n",
       "    </tr>\n",
       "  </tbody>\n",
       "</table>\n",
       "</div>"
      ]
     },
     "execution_count": 20,
     "metadata": {},
     "output_type": "execute_result"
    }
   ],
   "execution_count": 20
  }
 ],
 "metadata": {
  "language_info": {
   "name": "python"
  },
  "kernelspec": {
   "name": "python3",
   "language": "python",
   "display_name": "Python 3 (ipykernel)"
  }
 },
 "nbformat": 4,
 "nbformat_minor": 2
}
